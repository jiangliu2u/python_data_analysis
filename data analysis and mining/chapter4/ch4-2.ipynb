{
 "cells": [
  {
   "cell_type": "code",
   "execution_count": 5,
   "metadata": {
    "collapsed": true
   },
   "outputs": [
    {
     "name": "stdout",
     "output_type": "stream",
     "text": [
      "          0         1         2         3\n",
      "0  0.074380  0.937291  0.923520  1.000000\n",
      "1  0.619835  0.000000  0.000000  0.850941\n",
      "2  0.214876  0.119565  0.813322  0.000000\n",
      "3  0.000000  1.000000  1.000000  0.563676\n",
      "4  1.000000  0.942308  0.996711  0.804149\n",
      "5  0.264463  0.838629  0.814967  0.909310\n",
      "6  0.636364  0.846990  0.786184  0.929571\n",
      "          0         1         2         3\n",
      "0 -0.905383  0.635863  0.464531  0.798149\n",
      "1  0.604678 -1.587675 -2.193167  0.369390\n",
      "2 -0.516428 -1.304030  0.147406 -2.078279\n",
      "3 -1.111301  0.784628  0.684625 -0.456906\n",
      "4  1.657146  0.647765  0.675159  0.234796\n",
      "5 -0.379150  0.401807  0.152139  0.537286\n",
      "6  0.650438  0.421642  0.069308  0.595564\n",
      "       0      1      2       3\n",
      "0  0.078  0.521  0.602  0.2863\n",
      "1  0.144 -0.600 -0.521  0.2245\n",
      "2  0.095 -0.457  0.468 -0.1283\n",
      "3  0.069  0.596  0.695  0.1054\n",
      "4  0.190  0.527  0.691  0.2051\n",
      "5  0.101  0.403  0.470  0.2487\n",
      "6  0.146  0.413  0.435  0.2571\n"
     ]
    }
   ],
   "source": [
    "import pandas as pd\n",
    "import numpy as np\n",
    "from scipy.interpolate import lagrange\n",
    "datafile = \"normalization_data.xls\"\n",
    "data = pd.read_excel(datafile,header=None)\n",
    "max_min=(data-data.min())/(data.max()-data.min())#最小最大规范化\n",
    "zero_mean=(data-data.mean())/data.std()#零-均值规范化\n",
    "decimal=data/10**np.ceil(np.log10(data.abs().max()))#小数定标规范化\n",
    "print(max_min)\n",
    "print(zero_mean)\n",
    "print(decimal)"
   ]
  },
  {
   "cell_type": "code",
   "execution_count": 11,
   "metadata": {},
   "outputs": [
    {
     "ename": "AttributeError",
     "evalue": "'Series' object has no attribute 'reshape'",
     "output_type": "error",
     "traceback": [
      "\u001b[1;31m---------------------------------------------------------------------------\u001b[0m",
      "\u001b[1;31mAttributeError\u001b[0m                            Traceback (most recent call last)",
      "\u001b[1;32m<ipython-input-11-314a7995a5f0>\u001b[0m in \u001b[0;36m<module>\u001b[1;34m()\u001b[0m\n\u001b[0;32m      2\u001b[0m \u001b[0mdata2\u001b[0m \u001b[1;33m=\u001b[0m \u001b[0mpd\u001b[0m\u001b[1;33m.\u001b[0m\u001b[0mread_excel\u001b[0m\u001b[1;33m(\u001b[0m\u001b[0mdatafile2\u001b[0m\u001b[1;33m)\u001b[0m\u001b[1;33m\u001b[0m\u001b[0m\n\u001b[0;32m      3\u001b[0m \u001b[0mdata2\u001b[0m \u001b[1;33m=\u001b[0m \u001b[0mdata2\u001b[0m\u001b[1;33m[\u001b[0m\u001b[1;34m'肝气郁结证型系数'\u001b[0m\u001b[1;33m]\u001b[0m\u001b[1;33m.\u001b[0m\u001b[0mcopy\u001b[0m\u001b[1;33m(\u001b[0m\u001b[1;33m)\u001b[0m\u001b[1;33m\u001b[0m\u001b[0m\n\u001b[1;32m----> 4\u001b[1;33m \u001b[0mdata2\u001b[0m\u001b[1;33m.\u001b[0m\u001b[0mreshape\u001b[0m\u001b[1;33m(\u001b[0m\u001b[1;33m(\u001b[0m\u001b[0mlen\u001b[0m\u001b[1;33m(\u001b[0m\u001b[0mdata2\u001b[0m\u001b[1;33m)\u001b[0m\u001b[1;33m,\u001b[0m\u001b[1;36m1\u001b[0m\u001b[1;33m)\u001b[0m\u001b[1;33m)\u001b[0m\u001b[1;33m\u001b[0m\u001b[0m\n\u001b[0m\u001b[0;32m      5\u001b[0m \u001b[0mk\u001b[0m\u001b[1;33m=\u001b[0m\u001b[1;36m4\u001b[0m\u001b[1;33m\u001b[0m\u001b[0m\n\u001b[0;32m      6\u001b[0m \u001b[0md1\u001b[0m \u001b[1;33m=\u001b[0m \u001b[0mpd\u001b[0m\u001b[1;33m.\u001b[0m\u001b[0mcut\u001b[0m\u001b[1;33m(\u001b[0m\u001b[0mdata2\u001b[0m\u001b[1;33m,\u001b[0m\u001b[0mk\u001b[0m\u001b[1;33m,\u001b[0m\u001b[0mlabels\u001b[0m\u001b[1;33m=\u001b[0m\u001b[0mrange\u001b[0m\u001b[1;33m(\u001b[0m\u001b[0mk\u001b[0m\u001b[1;33m)\u001b[0m\u001b[1;33m)\u001b[0m\u001b[1;31m#等宽离散化，各个类比依次命名为0,1,2,3\u001b[0m\u001b[1;33m\u001b[0m\u001b[0m\n",
      "\u001b[1;32mc:\\python36\\lib\\site-packages\\pandas\\core\\generic.py\u001b[0m in \u001b[0;36m__getattr__\u001b[1;34m(self, name)\u001b[0m\n\u001b[0;32m   4374\u001b[0m             \u001b[1;32mif\u001b[0m \u001b[0mself\u001b[0m\u001b[1;33m.\u001b[0m\u001b[0m_info_axis\u001b[0m\u001b[1;33m.\u001b[0m\u001b[0m_can_hold_identifiers_and_holds_name\u001b[0m\u001b[1;33m(\u001b[0m\u001b[0mname\u001b[0m\u001b[1;33m)\u001b[0m\u001b[1;33m:\u001b[0m\u001b[1;33m\u001b[0m\u001b[0m\n\u001b[0;32m   4375\u001b[0m                 \u001b[1;32mreturn\u001b[0m \u001b[0mself\u001b[0m\u001b[1;33m[\u001b[0m\u001b[0mname\u001b[0m\u001b[1;33m]\u001b[0m\u001b[1;33m\u001b[0m\u001b[0m\n\u001b[1;32m-> 4376\u001b[1;33m             \u001b[1;32mreturn\u001b[0m \u001b[0mobject\u001b[0m\u001b[1;33m.\u001b[0m\u001b[0m__getattribute__\u001b[0m\u001b[1;33m(\u001b[0m\u001b[0mself\u001b[0m\u001b[1;33m,\u001b[0m \u001b[0mname\u001b[0m\u001b[1;33m)\u001b[0m\u001b[1;33m\u001b[0m\u001b[0m\n\u001b[0m\u001b[0;32m   4377\u001b[0m \u001b[1;33m\u001b[0m\u001b[0m\n\u001b[0;32m   4378\u001b[0m     \u001b[1;32mdef\u001b[0m \u001b[0m__setattr__\u001b[0m\u001b[1;33m(\u001b[0m\u001b[0mself\u001b[0m\u001b[1;33m,\u001b[0m \u001b[0mname\u001b[0m\u001b[1;33m,\u001b[0m \u001b[0mvalue\u001b[0m\u001b[1;33m)\u001b[0m\u001b[1;33m:\u001b[0m\u001b[1;33m\u001b[0m\u001b[0m\n",
      "\u001b[1;31mAttributeError\u001b[0m: 'Series' object has no attribute 'reshape'"
     ]
    }
   ],
   "source": [
    "datafile2=\"discretization_data.xls\"\n",
    "data2 = pd.read_excel(datafile2)\n",
    "data2 = data2['肝气郁结证型系数'].copy()\n",
    "data2.reshape((len(data2),1))\n",
    "k=4\n",
    "d1 = pd.cut(data2,k,labels=range(k))#等宽离散化，各个类比依次命名为0,1,2,3\n",
    "#等频率离散化\n",
    "w=[1.0*i/k for i in range(k+1)]\n",
    "w=data2.describe(percentiles=w)[4:4+k+1]\n",
    "w[0]=w[0]*(1-1e-10)\n",
    "d2=pd.cut(data2,w,labels=range(k))\n",
    "from sklearn.cluster import KMeans\n",
    "kmodel  =KMeans(n_clusters=k,n_jobs=4)#建立模型，n_jobs是并行数，一般等于CPU核心数\n",
    "kmodel.fit(data2.reshape((len(data2),1)))#训练模型\n",
    "c=pd.DataFrame(kmodel.cluster_centers_).sort(0)#输出聚类中心并且排序\n",
    "w=pd.rolling_mean(c,2).iloc[1:]\n",
    "w=[0]+list(w[0]+[data2.max()])\n",
    "d3 = pd.cut(data2,w,labels=range(k))\n",
    "\n",
    "def cluster_plot(d,k):#自定义作图函数显示聚类结果\n",
    "    import matplotlib.pyplot as plt\n",
    "    plt.figure(figsize=(8,3))\n",
    "    for j in range(0,k):\n",
    "        plt.plot(data2[d==j],[j for i in d[d==j]],'o')\n",
    "    plt.ylim(-0.5,k-0.5)\n",
    "    return plt\n",
    "cluster_plot(d1,k).show()\n",
    "cluster_plot(d2,k).show()\n",
    "cluster_plot(d3,k).show()\n",
    "data2.reshape"
   ]
  },
  {
   "cell_type": "code",
   "execution_count": null,
   "metadata": {},
   "outputs": [],
   "source": []
  }
 ],
 "metadata": {
  "kernelspec": {
   "display_name": "Python 3",
   "language": "python",
   "name": "python3"
  },
  "language_info": {
   "codemirror_mode": {
    "name": "ipython",
    "version": 3
   },
   "file_extension": ".py",
   "mimetype": "text/x-python",
   "name": "python",
   "nbconvert_exporter": "python",
   "pygments_lexer": "ipython3",
   "version": "3.6.5"
  }
 },
 "nbformat": 4,
 "nbformat_minor": 2
}
