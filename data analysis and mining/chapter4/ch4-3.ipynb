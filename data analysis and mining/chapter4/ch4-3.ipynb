{
 "cells": [
  {
   "cell_type": "code",
   "execution_count": 3,
   "metadata": {},
   "outputs": [],
   "source": [
    "import pandas as pd\n",
    "from sklearn.decomposition import PCA\n",
    "\n",
    "datafile = \"principal_component.xls\"\n",
    "outfile = \"dimention_reduced.xls\"\n"
   ]
  },
  {
   "cell_type": "code",
   "execution_count": 4,
   "metadata": {},
   "outputs": [
    {
     "data": {
      "text/plain": [
       "array([  7.74011263e-01,   1.56949443e-01,   4.27594216e-02,\n",
       "         2.40659228e-02,   1.50278048e-03,   4.10990447e-04,\n",
       "         2.07718405e-04,   9.24594471e-05])"
      ]
     },
     "execution_count": 4,
     "metadata": {},
     "output_type": "execute_result"
    }
   ],
   "source": [
    "data = pd.read_excel(datafile,header=None)\n",
    "pca = PCA()\n",
    "pca.fit(data)\n",
    "pca.components_#返回模型的各个特征向量\n",
    "pca.explained_variance_ratio_#各个成分各自的方差百分比，也称贡献率"
   ]
  },
  {
   "cell_type": "code",
   "execution_count": 5,
   "metadata": {
    "collapsed": true
   },
   "outputs": [
    {
     "data": {
      "text/plain": [
       "array([[ 41.81945026,  17.92938537,   7.42743613,   6.38423781,\n",
       "          7.51911186,   7.95581778,   1.89450158,  22.64634237],\n",
       "       [ 26.03033486,   8.31048339,  11.0923029 ,  10.50941053,\n",
       "         13.73592734,  19.29219354,   1.55616178,  10.69991334],\n",
       "       [ 12.8912027 ,   4.7200299 ,   4.15574756,   3.88084002,\n",
       "          4.15590258,   5.95354081,   0.63142514,   3.10031979],\n",
       "       [ 21.95107023,   7.86983692,   5.61296149,   5.00363184,\n",
       "          5.46598715,   7.32692984,   1.00043437,   6.90279388],\n",
       "       [ 33.2494621 ,  16.9295226 ,   6.97070109,   6.54184048,\n",
       "          8.78799069,   9.47854775,   1.76803069,  25.48379317],\n",
       "       [ 35.30223656,  14.31635159,  16.19611986,  15.83211443,\n",
       "         22.51688172,  30.25654088,   2.46591519,  25.94480913],\n",
       "       [ 22.0404299 ,   7.67212745,   9.96458085,   9.59042702,\n",
       "         12.69748404,  17.7402549 ,   1.39886681,  10.62704002],\n",
       "       [ 47.82344306,  16.03581175,  11.11907058,   9.5362307 ,\n",
       "         11.08119152,  14.24461981,   2.12478649,  16.79265084],\n",
       "       [ 40.72333307,  17.98533192,  20.14597677,  19.9884634 ,\n",
       "         29.35835797,  39.0457226 ,   3.09998769,  36.25975467],\n",
       "       [ 24.50981762,   9.36433655,   9.52005459,   9.10471477,\n",
       "         12.0327766 ,  16.33445643,   1.4768007 ,  13.14701555],\n",
       "       [ 13.3825743 ,   5.67777166,   4.16004148,   3.95836057,\n",
       "          4.47861564,   6.08501405,   0.6981744 ,   5.42443324],\n",
       "       [  1.44783093,   2.03894892,   0.87728401,   1.09467426,\n",
       "          0.69475478,   1.13961005,   0.11798269,   0.47858262],\n",
       "       [ 32.5440038 ,  13.14166028,   8.856767  ,   8.14476825,\n",
       "         10.36303253,  13.1291864 ,   1.68627384,  17.31120923],\n",
       "       [ 37.98481061,  11.3084017 ,  11.30095568,  10.03028594,\n",
       "         12.01198559,  16.61756516,   1.80165862,  10.78134217]])"
      ]
     },
     "execution_count": 5,
     "metadata": {},
     "output_type": "execute_result"
    }
   ],
   "source": [
    "#前四个贡献率就达到了97.37%，因此采用前3个就已经效果不错\n",
    "#重新建立模型\n",
    "pca2 = PCA(3)\n",
    "pca2.fit(data)\n",
    "low_d = pca2.transform(data)\n",
    "pd.DataFrame(low_d).to_excel(outfile)#保存结果\n",
    "pca2.inverse_transform(low_d)#必要时用inverse_transeform复原数据"
   ]
  },
  {
   "cell_type": "code",
   "execution_count": null,
   "metadata": {
    "collapsed": true
   },
   "outputs": [],
   "source": []
  }
 ],
 "metadata": {
  "kernelspec": {
   "display_name": "Python 3",
   "language": "python",
   "name": "python3"
  },
  "language_info": {
   "codemirror_mode": {
    "name": "ipython",
    "version": 3
   },
   "file_extension": ".py",
   "mimetype": "text/x-python",
   "name": "python",
   "nbconvert_exporter": "python",
   "pygments_lexer": "ipython3",
   "version": "3.6.2"
  }
 },
 "nbformat": 4,
 "nbformat_minor": 2
}
