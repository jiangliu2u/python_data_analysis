{
 "cells": [
  {
   "cell_type": "code",
   "execution_count": 2,
   "metadata": {
    "collapsed": true
   },
   "outputs": [],
   "source": [
    "import pandas as pd\n",
    "import numpy as np\n",
    "import matplotlib.pyplot as plt\n",
    "from scipy.interpolate import lagrange\n",
    "inputfile = \"missing_data.xls\"\n",
    "outputfile = \"out_data.xls\"\n",
    "data = pd.read_excel(inputfile,header=None)"
   ]
  },
  {
   "cell_type": "code",
   "execution_count": 3,
   "metadata": {
    "collapsed": true
   },
   "outputs": [],
   "source": [
    "#列向量插值函数，s为列向量，n为插值的位置，k为前后的数据个数，默认5\n",
    "#lagrange(x,y)是个函数，执行lagrange(x,y)(n)返回的是根据x,y算出的多项式自变量等于n时的值\n",
    "def polyinter_column(s,n,k=5):\n",
    "    y = s[list(range(n-k,n))+list(range(n+1,n+1+k))]\n",
    "    y = y[y.notnull()]#剔除空值\n",
    "    return lagrange(y.index,list(y))(n)\n",
    "#逐个判断元素是否需要插值\n",
    "for i in data.columns:\n",
    "    for j in range(len(data)):\n",
    "        if(data[i].isnull())[j]:#空值需插值\n",
    "            data[i][j]=polyinter_column(data[i],j)\n",
    "data.to_excel(outputfile,header=None,index=False)\n",
    "\n",
    "    "
   ]
  },
  {
   "cell_type": "code",
   "execution_count": 4,
   "metadata": {
    "collapsed": true
   },
   "outputs": [],
   "source": []
  },
  {
   "cell_type": "code",
   "execution_count": null,
   "metadata": {
    "collapsed": true
   },
   "outputs": [],
   "source": []
  }
 ],
 "metadata": {
  "kernelspec": {
   "display_name": "Python 3",
   "language": "python",
   "name": "python3"
  },
  "language_info": {
   "codemirror_mode": {
    "name": "ipython",
    "version": 3
   },
   "file_extension": ".py",
   "mimetype": "text/x-python",
   "name": "python",
   "nbconvert_exporter": "python",
   "pygments_lexer": "ipython3",
   "version": "3.6.2"
  }
 },
 "nbformat": 4,
 "nbformat_minor": 2
}
