{
 "cells": [
  {
   "cell_type": "code",
   "execution_count": 1,
   "metadata": {
    "collapsed": true
   },
   "outputs": [],
   "source": [
    "import pandas as pd\n",
    "import matplotlib.pyplot as plt\n",
    "sale_all = \"catering_sale_all.xls\"\n",
    "data = pd.read_excel(sale_all,index_col=\"日期\")\n",
    "plt.rcParams['font.sans-serif']=[\"Microsoft YaHei\"]"
   ]
  },
  {
   "cell_type": "code",
   "execution_count": 5,
   "metadata": {},
   "outputs": [
    {
     "data": {
      "text/plain": [
       "百合酱蒸凤爪     0.009206\n",
       "翡翠蒸香茜饺     1.000000\n",
       "金银蒜汁蒸排骨    0.304434\n",
       "乐膳真味鸡     -0.012279\n",
       "蜜汁焗餐包      0.058745\n",
       "生炒菜心      -0.180446\n",
       "铁板酸菜豆腐    -0.026908\n",
       "香煎韭菜饺      0.062344\n",
       "香煎罗卜糕      0.270276\n",
       "原汁原味菜心     0.020462\n",
       "Name: 翡翠蒸香茜饺, dtype: float64"
      ]
     },
     "execution_count": 5,
     "metadata": {},
     "output_type": "execute_result"
    }
   ],
   "source": [
    "data.corr()\n",
    "data.corr()['翡翠蒸香茜饺']"
   ]
  },
  {
   "cell_type": "code",
   "execution_count": null,
   "metadata": {
    "collapsed": true
   },
   "outputs": [],
   "source": []
  }
 ],
 "metadata": {
  "kernelspec": {
   "display_name": "Python 3",
   "language": "python",
   "name": "python3"
  },
  "language_info": {
   "codemirror_mode": {
    "name": "ipython",
    "version": 3
   },
   "file_extension": ".py",
   "mimetype": "text/x-python",
   "name": "python",
   "nbconvert_exporter": "python",
   "pygments_lexer": "ipython3",
   "version": "3.6.2"
  }
 },
 "nbformat": 4,
 "nbformat_minor": 2
}
